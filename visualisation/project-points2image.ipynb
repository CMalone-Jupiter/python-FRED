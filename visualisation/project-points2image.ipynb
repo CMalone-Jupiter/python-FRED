{
 "cells": [
  {
   "cell_type": "code",
   "execution_count": 1,
   "id": "caaa59e3",
   "metadata": {},
   "outputs": [
    {
     "name": "stdout",
     "output_type": "stream",
     "text": [
      "d:\\ODD - Connor\\python-FRED\\visualisation\n",
      "Jupyter environment detected. Enabling Open3D WebVisualizer.\n",
      "[Open3D INFO] WebRTC GUI backend enabled.\n",
      "[Open3D INFO] WebRTCWindowSystem: HTTP handshake server disabled.\n"
     ]
    }
   ],
   "source": [
    "# Imports\n",
    "import os\n",
    "import sys\n",
    "sys.path.append(os.path.abspath(\"..\"))   # one level up\n",
    "import numpy as np\n",
    "print(os.getcwd())\n",
    "import cv2\n",
    "import open3d as o3d\n",
    "from scipy.spatial.transform import Rotation\n",
    "from utils.lidar import PointCloud\n",
    "from utils.camera import ImageData"
   ]
  },
  {
   "cell_type": "code",
   "execution_count": 2,
   "id": "77f72c72",
   "metadata": {},
   "outputs": [],
   "source": [
    "# User parameters\n",
    "location = 'Cambogan'\n",
    "sequence = '20250811_113017'\n",
    "condition = 'flooded'\n",
    "camera_pos = 'front'\n",
    "image_timestamp = '20641521'\n",
    "root_directory = f\"../../Datasets/FRED/{condition}/KITTI-style\"\n",
    "# 01000000\n",
    "\n",
    "############ Define filenames and directories ####################################\n",
    "\n",
    "image_dir = f\"{root_directory}/{location}_{sequence}/{camera_pos}-imgs/\"\n",
    "lidar_dir = f\"{root_directory}/{location}_{sequence}/ouster/\"\n",
    "utm_dir = f\"{root_directory}/{location}_{sequence}/utm/\"\n",
    "\n",
    "img_calib_file = f\"../camera_calib.txt\"\n",
    "lidar_calib_file = f\"../calib.txt\"\n",
    "\n",
    "image_filename = f\"{image_dir}/{image_timestamp}.png\"\n",
    "\n",
    "############ Find closest point cloud and UTM position data ########################\n",
    "\n",
    "lidar_timestamps = np.array([int(filename.split('.bin')[0]) for filename in os.listdir(lidar_dir) if os.path.isfile(lidar_dir+filename)])\n",
    "\n",
    "closest_lidar = np.argmin(abs(lidar_timestamps-int(image_timestamp)))\n",
    "timestamp_diff = abs(int(image_timestamp)-lidar_timestamps[closest_lidar])\n",
    "\n",
    "timestamp_tolerance = 200000 # in microseconds (0.2 seconds)\n",
    "\n",
    "if timestamp_diff > timestamp_tolerance:\n",
    "    raise Exception(\"No pointcloud in close enough proximity\")\n",
    "else:\n",
    "    lidar_filename = f\"{lidar_dir}/{lidar_timestamps[closest_lidar]}.bin\"\n",
    "\n",
    "\n",
    "utm_timestamps = np.array([int(filename.split('.txt')[0]) for filename in os.listdir(utm_dir) if os.path.isfile(utm_dir+filename)])\n",
    "\n",
    "closest_utm = np.argmin(abs(utm_timestamps-int(image_timestamp)))\n",
    "timestamp_diff = abs(int(image_timestamp)-utm_timestamps[closest_utm])\n",
    "\n",
    "if timestamp_diff > timestamp_tolerance:\n",
    "    raise Exception(\"No utm measurment in close enough proximity\")\n",
    "else:\n",
    "    utm_filename = f\"{utm_dir}/{utm_timestamps[closest_utm]}.txt\""
   ]
  },
  {
   "cell_type": "code",
   "execution_count": 3,
   "id": "a01b9b15",
   "metadata": {},
   "outputs": [
    {
     "name": "stdout",
     "output_type": "stream",
     "text": [
      "../../Datasets/FRED/flooded/KITTI-style/Cambogan_20250811_113017/front-imgs//20641521.png\n",
      "../../Datasets/FRED/flooded/KITTI-style/Cambogan_20250811_113017/ouster//20692777.bin\n",
      "../../Datasets/FRED/flooded/KITTI-style/Cambogan_20250811_113017/utm//20710844.txt\n"
     ]
    }
   ],
   "source": [
    "print(image_filename)\n",
    "print(lidar_filename)\n",
    "print(utm_filename)"
   ]
  },
  {
   "cell_type": "code",
   "execution_count": 4,
   "id": "9f00c64c",
   "metadata": {},
   "outputs": [
    {
     "ename": "TypeError",
     "evalue": "read_calib_file() missing 1 required positional argument: 'path'",
     "output_type": "error",
     "traceback": [
      "\u001b[1;31m---------------------------------------------------------------------------\u001b[0m",
      "\u001b[1;31mTypeError\u001b[0m                                 Traceback (most recent call last)",
      "Cell \u001b[1;32mIn[4], line 1\u001b[0m\n\u001b[1;32m----> 1\u001b[0m image \u001b[38;5;241m=\u001b[39m \u001b[43mImageData\u001b[49m\u001b[43m(\u001b[49m\u001b[43mimage_filename\u001b[49m\u001b[43m,\u001b[49m\u001b[43m \u001b[49m\u001b[43mimg_calib_file\u001b[49m\u001b[43m)\u001b[49m\n\u001b[0;32m      2\u001b[0m pointcloud \u001b[38;5;241m=\u001b[39m PointCloud(lidar_filename, lidar_calib_file)\n\u001b[0;32m      4\u001b[0m \u001b[38;5;66;03m# print(pointcloud.points.shape)\u001b[39;00m\n\u001b[0;32m      5\u001b[0m \n\u001b[0;32m      6\u001b[0m \u001b[38;5;66;03m# pcd = o3d.geometry.PointCloud()\u001b[39;00m\n\u001b[1;32m   (...)\u001b[0m\n\u001b[0;32m     22\u001b[0m \n\u001b[0;32m     23\u001b[0m \u001b[38;5;66;03m# points2project = image_points[valid_img_mask]\u001b[39;00m\n",
      "File \u001b[1;32md:\\ODD - Connor\\python-FRED\\utils\\camera.py:10\u001b[0m, in \u001b[0;36mImageData.__init__\u001b[1;34m(self, file_path, calib_path)\u001b[0m\n\u001b[0;32m      7\u001b[0m \u001b[38;5;28;01mdef\u001b[39;00m \u001b[38;5;21m__init__\u001b[39m(\u001b[38;5;28mself\u001b[39m, file_path, calib_path):\n\u001b[0;32m      8\u001b[0m     \u001b[38;5;28mself\u001b[39m\u001b[38;5;241m.\u001b[39mimage \u001b[38;5;241m=\u001b[39m cv2\u001b[38;5;241m.\u001b[39mimread(file_path)\n\u001b[1;32m---> 10\u001b[0m     intrinsics \u001b[38;5;241m=\u001b[39m \u001b[43mread_calib_file\u001b[49m\u001b[43m(\u001b[49m\u001b[43mcalib_path\u001b[49m\u001b[43m)\u001b[49m\n\u001b[0;32m     11\u001b[0m     focal_len \u001b[38;5;241m=\u001b[39m intrinsics[\u001b[38;5;124m'\u001b[39m\u001b[38;5;124mfocal_len\u001b[39m\u001b[38;5;124m'\u001b[39m][\u001b[38;5;241m0\u001b[39m]\n\u001b[0;32m     12\u001b[0m     principal_x \u001b[38;5;241m=\u001b[39m intrinsics[\u001b[38;5;124m'\u001b[39m\u001b[38;5;124mprincipal_x\u001b[39m\u001b[38;5;124m'\u001b[39m][\u001b[38;5;241m0\u001b[39m]\n",
      "\u001b[1;31mTypeError\u001b[0m: read_calib_file() missing 1 required positional argument: 'path'"
     ]
    }
   ],
   "source": [
    "image = ImageData(image_filename, img_calib_file)\n",
    "pointcloud = PointCloud(lidar_filename, lidar_calib_file)\n",
    "\n",
    "# print(pointcloud.points.shape)\n",
    "\n",
    "# pcd = o3d.geometry.PointCloud()\n",
    "# pcd.points = o3d.utility.Vector3dVector(pointcloud.points[:,:3])\n",
    "# o3d.visualization.draw_geometries([pcd])\n",
    "\n",
    "# # Project to image coordinates\n",
    "# rvec = np.zeros(3)  # No additional rotation\n",
    "# tvec = np.zeros(3)  # No additional translation\n",
    "\n",
    "# image_points, _ = cv2.projectPoints(pointcloud.points_ouster_to_cam(), rvec, tvec, image.camera_matrix, image.dist_coeffs)\n",
    "\n",
    "# image_points = image_points.reshape(-1, 2)\n",
    "\n",
    "# # Filter points within image bounds\n",
    "# h, w = image.image.shape[0], image.image.shape[1]\n",
    "# valid_img_mask = ((image_points[:, 0] >= 0) & (image_points[:, 0] < w) &\n",
    "#                     (image_points[:, 1] >= 0) & (image_points[:, 1] < h))\n",
    "\n",
    "# points2project = image_points[valid_img_mask]"
   ]
  },
  {
   "cell_type": "code",
   "execution_count": null,
   "id": "40d9d620",
   "metadata": {},
   "outputs": [],
   "source": []
  }
 ],
 "metadata": {
  "kernelspec": {
   "display_name": "CARRSQ",
   "language": "python",
   "name": "python3"
  },
  "language_info": {
   "codemirror_mode": {
    "name": "ipython",
    "version": 3
   },
   "file_extension": ".py",
   "mimetype": "text/x-python",
   "name": "python",
   "nbconvert_exporter": "python",
   "pygments_lexer": "ipython3",
   "version": "3.10.15"
  }
 },
 "nbformat": 4,
 "nbformat_minor": 5
}
