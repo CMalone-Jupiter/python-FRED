{
 "cells": [
  {
   "cell_type": "code",
   "execution_count": 3,
   "id": "caaa59e3",
   "metadata": {},
   "outputs": [],
   "source": [
    "# Imports\n",
    "import sys\n",
    "sys.path.append(os.path.abspath(\"..\"))   # one level up\n",
    "import numpy as np\n",
    "import os\n",
    "# print(os.getcwd())\n",
    "import cv2\n",
    "import open3d as o3d\n",
    "from scipy.spatial.transform import Rotation\n",
    "from utils.lidar import PointCloud\n",
    "from utils.camera import ImageData"
   ]
  },
  {
   "cell_type": "code",
   "execution_count": null,
   "id": "77f72c72",
   "metadata": {},
   "outputs": [
    {
     "ename": "FileNotFoundError",
     "evalue": "[WinError 3] The system cannot find the path specified: '../../datasets/FRED/KITTI-style/flooded/Cambogan_sequence/ouster/'",
     "output_type": "error",
     "traceback": [
      "\u001b[1;31m---------------------------------------------------------------------------\u001b[0m",
      "\u001b[1;31mFileNotFoundError\u001b[0m                         Traceback (most recent call last)",
      "Cell \u001b[1;32mIn[5], line 22\u001b[0m\n\u001b[0;32m     18\u001b[0m image_filename \u001b[38;5;241m=\u001b[39m \u001b[38;5;124mf\u001b[39m\u001b[38;5;124m\"\u001b[39m\u001b[38;5;132;01m{\u001b[39;00mimage_dir\u001b[38;5;132;01m}\u001b[39;00m\u001b[38;5;124m/\u001b[39m\u001b[38;5;132;01m{\u001b[39;00mimage_timestamp\u001b[38;5;132;01m}\u001b[39;00m\u001b[38;5;124m.png\u001b[39m\u001b[38;5;124m\"\u001b[39m\n\u001b[0;32m     20\u001b[0m \u001b[38;5;66;03m############ Find closest point cloud and UTM position data ########################\u001b[39;00m\n\u001b[1;32m---> 22\u001b[0m lidar_timestamps \u001b[38;5;241m=\u001b[39m np\u001b[38;5;241m.\u001b[39marray([\u001b[38;5;28mint\u001b[39m(filename\u001b[38;5;241m.\u001b[39msplit(\u001b[38;5;124m'\u001b[39m\u001b[38;5;124m.bin\u001b[39m\u001b[38;5;124m'\u001b[39m)[\u001b[38;5;241m0\u001b[39m]) \u001b[38;5;28;01mfor\u001b[39;00m filename \u001b[38;5;129;01min\u001b[39;00m \u001b[43mos\u001b[49m\u001b[38;5;241;43m.\u001b[39;49m\u001b[43mlistdir\u001b[49m\u001b[43m(\u001b[49m\u001b[43mlidar_dir\u001b[49m\u001b[43m)\u001b[49m \u001b[38;5;28;01mif\u001b[39;00m os\u001b[38;5;241m.\u001b[39mpath\u001b[38;5;241m.\u001b[39misfile(lidar_dir\u001b[38;5;241m+\u001b[39mfilename)])\n\u001b[0;32m     24\u001b[0m closest_lidar \u001b[38;5;241m=\u001b[39m np\u001b[38;5;241m.\u001b[39margmin(\u001b[38;5;28mabs\u001b[39m(lidar_timestamps\u001b[38;5;241m-\u001b[39m\u001b[38;5;28mint\u001b[39m(image_timestamp)))\n\u001b[0;32m     25\u001b[0m timestamp_diff \u001b[38;5;241m=\u001b[39m \u001b[38;5;28mabs\u001b[39m(\u001b[38;5;28mint\u001b[39m(image_timestamp)\u001b[38;5;241m-\u001b[39mlidar_timestamps[closest_lidar])\n",
      "\u001b[1;31mFileNotFoundError\u001b[0m: [WinError 3] The system cannot find the path specified: '../../datasets/FRED/KITTI-style/flooded/Cambogan_sequence/ouster/'"
     ]
    }
   ],
   "source": [
    "# User parameters\n",
    "root_directory = '../datasets/FRED/KITTI-style'\n",
    "location = 'Cambogan'\n",
    "sequence = '20250811_113017'\n",
    "condition = 'flooded'\n",
    "camera_pos = 'front'\n",
    "image_timestamp = '20641521'\n",
    "\n",
    "############ Define filenames and directories ####################################\n",
    "\n",
    "image_dir = f\"{root_directory}/{condition}/{location}_sequence/{camera_pos}-imgs/\"\n",
    "lidar_dir = f\"{root_directory}/{condition}/{location}_sequence/ouster/\"\n",
    "utm_dir = f\"{root_directory}/{condition}/{location}_sequence/utm/\"\n",
    "\n",
    "img_calib_file = f\"./camera_calib.txt\"\n",
    "lidar_calib_file = f\"./calib.txt\"\n",
    "\n",
    "image_filename = f\"{image_dir}/{image_timestamp}.png\"\n",
    "\n",
    "############ Find closest point cloud and UTM position data ########################\n",
    "\n",
    "lidar_timestamps = np.array([int(filename.split('.bin')[0]) for filename in os.listdir(lidar_dir) if os.path.isfile(lidar_dir+filename)])\n",
    "\n",
    "closest_lidar = np.argmin(abs(lidar_timestamps-int(image_timestamp)))\n",
    "timestamp_diff = abs(int(image_timestamp)-lidar_timestamps[closest_lidar])\n",
    "\n",
    "timestamp_tolerance = 2000000 # in microseconds (0.2 seconds)\n",
    "\n",
    "if timestamp_diff > timestamp_tolerance:\n",
    "    raise Exception(\"No pointcloud in close enough proximity\")\n",
    "else:\n",
    "    lidar_filename = f\"{lidar_dir}/{lidar_timestamps[closest_lidar]}.bin\"\n",
    "\n",
    "\n",
    "utm_timestamps = np.array([int(filename.split('.txt')[0]) for filename in os.listdir(utm_dir) if os.path.isfile(utm_dir+filename)])\n",
    "\n",
    "closest_utm = np.argmin(abs(utm_timestamps-int(image_timestamp)))\n",
    "timestamp_diff = abs(int(image_timestamp)-utm_timestamps[closest_utm])\n",
    "\n",
    "if timestamp_diff > timestamp_tolerance:\n",
    "    raise Exception(\"No utm measurment in close enough proximity\")\n",
    "else:\n",
    "    utm_filename = f\"{utm_dir}/{utm_timestamps[closest_utm]}.txt\""
   ]
  },
  {
   "cell_type": "code",
   "execution_count": null,
   "id": "9f00c64c",
   "metadata": {},
   "outputs": [],
   "source": [
    "image = ImageData(image_filename, img_calib_file)\n",
    "pointcloud = PointCloud(lidar_filename, lidar_calib_file)\n",
    "\n",
    "# Project to image coordinates\n",
    "rvec = np.zeros(3)  # No additional rotation\n",
    "tvec = np.zeros(3)  # No additional translation\n",
    "\n",
    "image_points, _ = cv2.projectPoints(pointcloud.points_ouster_to_cam(), rvec, tvec, image.camera_matrix, image.dist_coeffs)\n",
    "\n",
    "image_points = image_points.reshape(-1, 2)\n",
    "\n",
    "# Filter points within image bounds\n",
    "h, w = image.image.shape[0], image.image.shape[1]\n",
    "valid_img_mask = ((image_points[:, 0] >= 0) & (image_points[:, 0] < w) &\n",
    "                    (image_points[:, 1] >= 0) & (image_points[:, 1] < h))\n",
    "\n",
    "points2project = image_points[valid_img_mask]"
   ]
  },
  {
   "cell_type": "code",
   "execution_count": null,
   "id": "40d9d620",
   "metadata": {},
   "outputs": [],
   "source": []
  }
 ],
 "metadata": {
  "kernelspec": {
   "display_name": "CARRSQ",
   "language": "python",
   "name": "python3"
  },
  "language_info": {
   "codemirror_mode": {
    "name": "ipython",
    "version": 3
   },
   "file_extension": ".py",
   "mimetype": "text/x-python",
   "name": "python",
   "nbconvert_exporter": "python",
   "pygments_lexer": "ipython3",
   "version": "3.10.15"
  }
 },
 "nbformat": 4,
 "nbformat_minor": 5
}
