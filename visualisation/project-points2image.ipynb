{
 "cells": [
  {
   "cell_type": "code",
   "execution_count": null,
   "id": "caaa59e3",
   "metadata": {},
   "outputs": [],
   "source": [
    "# Imports\n",
    "import numpy as np\n",
    "import os\n",
    "import cv2\n",
    "import open3d as o3d\n",
    "from scipy.spatial.transform import Rotation\n",
    "from utils.lidar import PointCloud\n",
    "from utils.camera import ImageData"
   ]
  },
  {
   "cell_type": "code",
   "execution_count": null,
   "id": "77f72c72",
   "metadata": {},
   "outputs": [],
   "source": [
    "# User parameters\n",
    "root_directory = '../datasets/FRED/KITTI-style'\n",
    "location = 'Cambogan'\n",
    "sequence = ''\n",
    "condition = 'flooded'\n",
    "camera_pos = 'front'\n",
    "image_timestamp = ''\n",
    "\n",
    "############ Define filenames and directories ####################################\n",
    "\n",
    "image_dir = f\"{root_directory}/{condition}/{location}_sequence/{camera_pos}-imgs/\"\n",
    "lidar_dir = f\"{root_directory}/{condition}/{location}_sequence/ouster/\"\n",
    "utm_dir = f\"{root_directory}/{condition}/{location}_sequence/utm/\"\n",
    "\n",
    "img_calib_file = f\"./camera_calib.txt\"\n",
    "lidar_calib_file = f\"./calib.txt\"\n",
    "\n",
    "image_filename = f\"{image_dir}/{image_timestamp}.png\"\n",
    "\n",
    "############ Find closest point cloud and UTM position data ########################\n",
    "\n",
    "lidar_timestamps = np.array([int(filename.split('.bin')[0]) for filename in os.listdir(lidar_dir) if os.path.isfile(lidar_dir+filename)])\n",
    "\n",
    "closest_lidar = np.argmin(abs(lidar_timestamps-int(image_timestamp)))\n",
    "timestamp_diff = abs(int(image_timestamp)-lidar_timestamps[closest_lidar])\n",
    "\n",
    "timestamp_tolerance = 2000000 # in microseconds (0.2 seconds)\n",
    "\n",
    "if timestamp_diff > timestamp_tolerance:\n",
    "    raise Exception(\"No pointcloud in close enough proximity\")\n",
    "else:\n",
    "    lidar_filename = f\"{lidar_dir}/{lidar_timestamps[closest_lidar]}.bin\"\n",
    "\n",
    "\n",
    "utm_timestamps = np.array([int(filename.split('.txt')[0]) for filename in os.listdir(utm_dir) if os.path.isfile(utm_dir+filename)])\n",
    "\n",
    "closest_utm = np.argmin(abs(utm_timestamps-int(image_timestamp)))\n",
    "timestamp_diff = abs(int(image_timestamp)-utm_timestamps[closest_utm])\n",
    "\n",
    "if timestamp_diff > timestamp_tolerance:\n",
    "    raise Exception(\"No utm measurment in close enough proximity\")\n",
    "else:\n",
    "    utm_filename = f\"{utm_dir}/{utm_timestamps[closest_utm]}.txt\""
   ]
  },
  {
   "cell_type": "code",
   "execution_count": null,
   "id": "9f00c64c",
   "metadata": {},
   "outputs": [],
   "source": [
    "image = ImageData(image_filename, img_calib_file)\n",
    "pointcloud = PointCloud(lidar_filename, lidar_calib_file)\n",
    "\n",
    "# Project to image coordinates\n",
    "rvec = np.zeros(3)  # No additional rotation\n",
    "tvec = np.zeros(3)  # No additional translation\n",
    "\n",
    "image_points, _ = cv2.projectPoints(\n",
    "    image., rvec, tvec, image.camera_matrix, image.dist_coeffs\n",
    ")\n",
    "\n",
    "image_points = image_points.reshape(-1, 2)\n",
    "\n",
    "# Filter points within image bounds\n",
    "h, w = self.height, self.width\n",
    "valid_img_mask = ((image_points[:, 0] >= 0) & (image_points[:, 0] < w) &\n",
    "                    (image_points[:, 1] >= 0) & (image_points[:, 1] < h))\n",
    "\n",
    "return image_points[valid_img_mask], valid_distances[valid_img_mask], valid_inten[valid_img_mask]"
   ]
  },
  {
   "cell_type": "code",
   "execution_count": null,
   "id": "40d9d620",
   "metadata": {},
   "outputs": [],
   "source": []
  }
 ],
 "metadata": {
  "kernelspec": {
   "display_name": "CADRRA",
   "language": "python",
   "name": "python3"
  },
  "language_info": {
   "name": "python",
   "version": "3.10.14"
  }
 },
 "nbformat": 4,
 "nbformat_minor": 5
}
